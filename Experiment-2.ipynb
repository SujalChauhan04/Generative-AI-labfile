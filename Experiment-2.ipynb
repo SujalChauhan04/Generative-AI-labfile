{
  "nbformat": 4,
  "nbformat_minor": 0,
  "metadata": {
    "colab": {
      "provenance": [],
      "authorship_tag": "ABX9TyN37Sh5DnPoAqpixRAXS1H5",
      "include_colab_link": true
    },
    "kernelspec": {
      "name": "python3",
      "display_name": "Python 3"
    },
    "language_info": {
      "name": "python"
    }
  },
  "cells": [
    {
      "cell_type": "markdown",
      "metadata": {
        "id": "view-in-github",
        "colab_type": "text"
      },
      "source": [
        "<a href=\"https://colab.research.google.com/github/SujalChauhan04/Generative-AI-labfile/blob/main/Experiment-2.ipynb\" target=\"_parent\"><img src=\"https://colab.research.google.com/assets/colab-badge.svg\" alt=\"Open In Colab\"/></a>"
      ]
    },
    {
      "cell_type": "code",
      "execution_count": 28,
      "metadata": {
        "colab": {
          "base_uri": "https://localhost:8080/"
        },
        "id": "Ytjgmoi6eIKB",
        "outputId": "fb2d3976-3108-4732-cf18-089ce37cd954"
      },
      "outputs": [
        {
          "output_type": "stream",
          "name": "stdout",
          "text": [
            "Requirement already satisfied: matplotlib in /usr/local/lib/python3.10/dist-packages (3.7.1)\n",
            "Requirement already satisfied: contourpy>=1.0.1 in /usr/local/lib/python3.10/dist-packages (from matplotlib) (1.2.1)\n",
            "Requirement already satisfied: cycler>=0.10 in /usr/local/lib/python3.10/dist-packages (from matplotlib) (0.12.1)\n",
            "Requirement already satisfied: fonttools>=4.22.0 in /usr/local/lib/python3.10/dist-packages (from matplotlib) (4.53.0)\n",
            "Requirement already satisfied: kiwisolver>=1.0.1 in /usr/local/lib/python3.10/dist-packages (from matplotlib) (1.4.5)\n",
            "Requirement already satisfied: numpy>=1.20 in /usr/local/lib/python3.10/dist-packages (from matplotlib) (1.25.2)\n",
            "Requirement already satisfied: packaging>=20.0 in /usr/local/lib/python3.10/dist-packages (from matplotlib) (24.1)\n",
            "Requirement already satisfied: pillow>=6.2.0 in /usr/local/lib/python3.10/dist-packages (from matplotlib) (9.4.0)\n",
            "Requirement already satisfied: pyparsing>=2.3.1 in /usr/local/lib/python3.10/dist-packages (from matplotlib) (3.1.2)\n",
            "Requirement already satisfied: python-dateutil>=2.7 in /usr/local/lib/python3.10/dist-packages (from matplotlib) (2.8.2)\n",
            "Requirement already satisfied: six>=1.5 in /usr/local/lib/python3.10/dist-packages (from python-dateutil>=2.7->matplotlib) (1.16.0)\n"
          ]
        }
      ],
      "source": [
        "pip install matplotlib"
      ]
    },
    {
      "cell_type": "code",
      "source": [
        "from tensorflow import keras\n",
        "from keras.datasets import mnist # MNIST dataset is included in Keras\n",
        "(X_train, y_train), (X_test, y_test) = mnist.load_data()\n",
        "print(\"X_train shape\", X_train.shape)\n",
        "print(\"y_train shape\", y_train.shape)\n",
        "print(\"X_test shape\", X_test.shape)\n",
        "print(\"y_test shape\", y_test.shape)"
      ],
      "metadata": {
        "colab": {
          "base_uri": "https://localhost:8080/"
        },
        "id": "7h78xv8MeVEh",
        "outputId": "84255fb1-ec2f-4962-c169-1b569edabead"
      },
      "execution_count": 29,
      "outputs": [
        {
          "output_type": "stream",
          "name": "stdout",
          "text": [
            "X_train shape (60000, 28, 28)\n",
            "y_train shape (60000,)\n",
            "X_test shape (10000, 28, 28)\n",
            "y_test shape (10000,)\n"
          ]
        }
      ]
    },
    {
      "cell_type": "code",
      "source": [
        "# Plot first few images\n",
        "import matplotlib.pyplot as plt\n",
        "for i in range(9):\n",
        "# define subplot\n",
        "  plt.subplot(3,3,i+1) # 3 rows, 3 col, pos\n",
        "# plot raw pixel data\n",
        "  plt.imshow(X_train[i], cmap='gray')\n",
        "# show the figure\n",
        "plt.show()\n"
      ],
      "metadata": {
        "colab": {
          "base_uri": "https://localhost:8080/",
          "height": 433
        },
        "id": "PxOb-0RyecdP",
        "outputId": "08dfa940-6433-4431-ddc0-31d10cb175fb"
      },
      "execution_count": 6,
      "outputs": [
        {
          "output_type": "display_data",
          "data": {
            "text/plain": [
              "<Figure size 640x480 with 9 Axes>"
            ],
            "image/png": "[encoded data removed]"
          },
          "metadata": {}
        }
      ]
    },
    {
      "cell_type": "code",
      "source": [
        "X_train[i].shape\n"
      ],
      "metadata": {
        "colab": {
          "base_uri": "https://localhost:8080/"
        },
        "id": "fMGHQkxMep8G",
        "outputId": "dca3ba92-5e0a-472c-a122-191d6b2e21d6"
      },
      "execution_count": 7,
      "outputs": [
        {
          "output_type": "execute_result",
          "data": {
            "text/plain": [
              "(28, 28)"
            ]
          },
          "metadata": {},
          "execution_count": 7
        }
      ]
    },
    {
      "cell_type": "code",
      "source": [
        "# Each pixel is an 8-bit integer from 0-255 (0 is full black, 255 is full white)\n",
        "# single-channel pixel or monochrome image\n",
        "X_train[i][10:20,10:20]"
      ],
      "metadata": {
        "colab": {
          "base_uri": "https://localhost:8080/",
          "height": 210
        },
        "id": "tm4lonXxe5vh",
        "outputId": "9d96a6d4-d03d-47f8-a2f8-acc1a69e0a66"
      },
      "execution_count": 9,
      "outputs": [
        {
          "output_type": "execute_result",
          "data": {
            "text/plain": [
              "array([[  0,   0,  20, 254, 254, 108,   0,   0,   0,   0],\n",
              "       [  0,   0,  16, 239, 254, 143,   0,   0,   0,   0],\n",
              "       [  0,   0,   0, 178, 254, 143,   0,   0,   0,   0],\n",
              "       [  0,   0,   0, 178, 254, 143,   0,   0,   0,   0],\n",
              "       [  0,   0,   0, 178, 254, 162,   0,   0,   0,   0],\n",
              "       [  0,   0,   0, 178, 254, 240,   0,   0,   0,   0],\n",
              "       [  0,   0,   0, 113, 254, 240,   0,   0,   0,   0],\n",
              "       [  0,   0,   0,  83, 254, 245,  31,   0,   0,   0],\n",
              "       [  0,   0,   0,  79, 254, 246,  38,   0,   0,   0],\n",
              "       [  0,   0,   0,   0, 214, 254, 150,   0,   0,   0]], dtype=uint8)"
            ],
            "text/html": [
              "<style>\n",
              "      .ndarray_repr .ndarray_raw_data {\n",
              "        display: none;\n",
              "      }\n",
              "      .ndarray_repr.show_array .ndarray_raw_data {\n",
              "        display: block;\n",
              "      }\n",
              "      .ndarray_repr.show_array .ndarray_image_preview {\n",
              "        display: none;\n",
              "      }\n",
              "      </style>\n",
              "      <div id=\"id-0afb5b34-514e-4bed-b77a-dcf3ee126f75\" class=\"ndarray_repr\"><pre>ndarray (10, 10) <button style=\"padding: 0 2px;\">show data</button></pre><img src=\"data:image/png;base64,iVBORw0KGgoAAAANSUhEUgAAAAoAAAAKCAAAAACoWZBhAAAAQElEQVR4nGNgYBD59y+HgYGBgYmB4c9HBmUo88NhBgYoEwYgTGEE0w/G3I9Q8IiBVR7K/MPAyA7Te+3fNAYGBgDLQAvkXDu/swAAAABJRU5ErkJggg==\" class=\"ndarray_image_preview\" /><pre class=\"ndarray_raw_data\">array([[  0,   0,  20, 254, 254, 108,   0,   0,   0,   0],\n",
              "       [  0,   0,  16, 239, 254, 143,   0,   0,   0,   0],\n",
              "       [  0,   0,   0, 178, 254, 143,   0,   0,   0,   0],\n",
              "       [  0,   0,   0, 178, 254, 143,   0,   0,   0,   0],\n",
              "       [  0,   0,   0, 178, 254, 162,   0,   0,   0,   0],\n",
              "       [  0,   0,   0, 178, 254, 240,   0,   0,   0,   0],\n",
              "       [  0,   0,   0, 113, 254, 240,   0,   0,   0,   0],\n",
              "       [  0,   0,   0,  83, 254, 245,  31,   0,   0,   0],\n",
              "       [  0,   0,   0,  79, 254, 246,  38,   0,   0,   0],\n",
              "       [  0,   0,   0,   0, 214, 254, 150,   0,   0,   0]], dtype=uint8)</pre></div><script>\n",
              "      (() => {\n",
              "      const titles = ['show data', 'hide data'];\n",
              "      let index = 0\n",
              "      document.querySelector('#id-0afb5b34-514e-4bed-b77a-dcf3ee126f75 button').onclick = (e) => {\n",
              "        document.querySelector('#id-0afb5b34-514e-4bed-b77a-dcf3ee126f75').classList.toggle('show_array');\n",
              "        index = (++index) % 2;\n",
              "        document.querySelector('#id-0afb5b34-514e-4bed-b77a-dcf3ee126f75 button').textContent = titles[index];\n",
              "        e.preventDefault();\n",
              "        e.stopPropagation();\n",
              "      }\n",
              "      })();\n",
              "    </script>"
            ]
          },
          "metadata": {},
          "execution_count": 9
        }
      ]
    },
    {
      "cell_type": "code",
      "source": [
        "# reshape 28 x 28 matrices into 784-length vectors\n",
        "X_train = X_train.reshape(60000, 784)\n",
        "X_test = X_test.reshape(10000, 784)\n",
        "# normalize each value for each pixel for the entire vector for each input\n",
        "# change integers to 32-bit floating point numbers\n",
        "X_train = X_train.astype('float32')\n",
        "X_test = X_test.astype('float32')\n",
        "# normalize by dividing by largest pixel value\n",
        "X_train /= 255\n",
        "X_test /= 255\n",
        "print(\"Training matrix shape\", X_train.shape)\n",
        "print(\"Testing matrix shape\", X_test.shape)"
      ],
      "metadata": {
        "colab": {
          "base_uri": "https://localhost:8080/"
        },
        "id": "zoUAjr5DfGRh",
        "outputId": "db51e044-8504-4192-95f6-8a8a24714b1f"
      },
      "execution_count": 10,
      "outputs": [
        {
          "output_type": "stream",
          "name": "stdout",
          "text": [
            "Training matrix shape (60000, 784)\n",
            "Testing matrix shape (10000, 784)\n"
          ]
        }
      ]
    },
    {
      "cell_type": "code",
      "source": [
        "# Sequential keras model with Dense layes (DIY)\n",
        "from keras.models import Sequential # Model type to be used\n",
        "from keras.layers import Dense # Types of layers to be used in our model\n",
        "from keras.models import Sequential\n",
        "from keras.layers import Dense\n",
        "model = Sequential()\n",
        "# Hidden layer with 32 units and relu activation\n",
        "model.add(Dense(32, input_dim = 28 * 28, activation= 'relu'))\n",
        "# Input layer with 64 units and relu activation\n",
        "model.add(Dense(64, activation = 'relu'))\n",
        "# Output layer with 10 units and softmax activation\n",
        "model.add(Dense(10, activation = 'softmax'))\n",
        "# Compile model\n",
        "model.compile(\n",
        " optimizer='adam',\n",
        " loss='categorical_crossentropy',\n",
        " metrics=[\n",
        " 'accuracy',\n",
        " 'AUC',\n",
        " ]\n",
        ")"
      ],
      "metadata": {
        "id": "h3DbR-0wfLR4"
      },
      "execution_count": 12,
      "outputs": []
    },
    {
      "cell_type": "code",
      "source": [
        "# Visualize the model\n",
        "from keras.utils.vis_utils import plot_model\n",
        "plot_model(model, show_shapes=True, show_layer_names=False)\n"
      ],
      "metadata": {
        "colab": {
          "base_uri": "https://localhost:8080/",
          "height": 349
        },
        "id": "LHZJ_dskfQ6A",
        "outputId": "c10f1526-bf7b-4a0f-d12f-c7a3d246fa0e"
      },
      "execution_count": 30,
      "outputs": [
        {
          "output_type": "error",
          "ename": "ModuleNotFoundError",
          "evalue": "No module named 'keras.utils.vis_utils'",
          "traceback": [
            "\u001b[0;31m---------------------------------------------------------------------------\u001b[0m",
            "\u001b[0;31mModuleNotFoundError\u001b[0m                       Traceback (most recent call last)",
            "\u001b[0;32m<ipython-input-30-ba113d502c1b>\u001b[0m in \u001b[0;36m<cell line: 2>\u001b[0;34m()\u001b[0m\n\u001b[1;32m      1\u001b[0m \u001b[0;31m# Visualize the model\u001b[0m\u001b[0;34m\u001b[0m\u001b[0;34m\u001b[0m\u001b[0m\n\u001b[0;32m----> 2\u001b[0;31m \u001b[0;32mfrom\u001b[0m \u001b[0mkeras\u001b[0m\u001b[0;34m.\u001b[0m\u001b[0mutils\u001b[0m\u001b[0;34m.\u001b[0m\u001b[0mvis_utils\u001b[0m \u001b[0;32mimport\u001b[0m \u001b[0mplot_model\u001b[0m\u001b[0;34m\u001b[0m\u001b[0;34m\u001b[0m\u001b[0m\n\u001b[0m\u001b[1;32m      3\u001b[0m \u001b[0mplot_model\u001b[0m\u001b[0;34m(\u001b[0m\u001b[0mmodel\u001b[0m\u001b[0;34m,\u001b[0m \u001b[0mshow_shapes\u001b[0m\u001b[0;34m=\u001b[0m\u001b[0;32mTrue\u001b[0m\u001b[0;34m,\u001b[0m \u001b[0mshow_layer_names\u001b[0m\u001b[0;34m=\u001b[0m\u001b[0;32mFalse\u001b[0m\u001b[0;34m)\u001b[0m\u001b[0;34m\u001b[0m\u001b[0;34m\u001b[0m\u001b[0m\n",
            "\u001b[0;31mModuleNotFoundError\u001b[0m: No module named 'keras.utils.vis_utils'",
            "",
            "\u001b[0;31m---------------------------------------------------------------------------\u001b[0;32m\nNOTE: If your import is failing due to a missing package, you can\nmanually install dependencies using either !pip or !apt.\n\nTo view examples of installing some common dependencies, click the\n\"Open Examples\" button below.\n\u001b[0;31m---------------------------------------------------------------------------\u001b[0m\n"
          ],
          "errorDetails": {
            "actions": [
              {
                "action": "open_url",
                "actionText": "Open Examples",
                "url": "/notebooks/snippets/importing_libraries.ipynb"
              }
            ]
          }
        }
      ]
    },
    {
      "cell_type": "code",
      "source": [
        "# # Visualize the model\n",
        "# from keras.utils.vis_utils import plot_model\n",
        "# plot_model(model, show_shapes=True, show_layer_names=False)\n",
        "# Display model summary\n",
        "model.summary()"
      ],
      "metadata": {
        "colab": {
          "base_uri": "https://localhost:8080/"
        },
        "id": "rS4CQYZrgF7y",
        "outputId": "9ec8d9a2-4948-420f-9be6-b8fe53267459"
      },
      "execution_count": 17,
      "outputs": [
        {
          "output_type": "stream",
          "name": "stdout",
          "text": [
            "Model: \"sequential_1\"\n",
            "_________________________________________________________________\n",
            " Layer (type)                Output Shape              Param #   \n",
            "=================================================================\n",
            " dense_3 (Dense)             (None, 32)                25120     \n",
            "                                                                 \n",
            " dense_4 (Dense)             (None, 64)                2112      \n",
            "                                                                 \n",
            " dense_5 (Dense)             (None, 10)                650       \n",
            "                                                                 \n",
            "=================================================================\n",
            "Total params: 27882 (108.91 KB)\n",
            "Trainable params: 27882 (108.91 KB)\n",
            "Non-trainable params: 0 (0.00 Byte)\n",
            "_________________________________________________________________\n"
          ]
        }
      ]
    },
    {
      "cell_type": "code",
      "source": [
        "#understand model summary\n",
        "784*64 + 64"
      ],
      "metadata": {
        "colab": {
          "base_uri": "https://localhost:8080/"
        },
        "id": "ffB1I-o1gLCF",
        "outputId": "ad4df23f-7e75-491b-fd94-54f10b38daf3"
      },
      "execution_count": 18,
      "outputs": [
        {
          "output_type": "execute_result",
          "data": {
            "text/plain": [
              "50240"
            ]
          },
          "metadata": {},
          "execution_count": 18
        }
      ]
    },
    {
      "cell_type": "code",
      "source": [
        "64*32 + 32\n"
      ],
      "metadata": {
        "colab": {
          "base_uri": "https://localhost:8080/"
        },
        "id": "TDL_uvjega1_",
        "outputId": "493ad4ba-53fa-4902-c337-b51c94abdb72"
      },
      "execution_count": 19,
      "outputs": [
        {
          "output_type": "execute_result",
          "data": {
            "text/plain": [
              "2080"
            ]
          },
          "metadata": {},
          "execution_count": 19
        }
      ]
    },
    {
      "cell_type": "code",
      "source": [
        "32*10 + 10\n"
      ],
      "metadata": {
        "colab": {
          "base_uri": "https://localhost:8080/"
        },
        "id": "asIMFtr-geFa",
        "outputId": "94bc5b35-dca0-4ced-c61b-3314dfc3fb21"
      },
      "execution_count": 20,
      "outputs": [
        {
          "output_type": "execute_result",
          "data": {
            "text/plain": [
              "330"
            ]
          },
          "metadata": {},
          "execution_count": 20
        }
      ]
    },
    {
      "cell_type": "code",
      "source": [
        "from tensorflow.keras.utils import to_categorical\n",
        "y_train1 = to_categorical(y_train)\n",
        "y_test1 = to_categorical(y_test)\n",
        "print(y_test[6])\n",
        "print(y_test1[6,:])\n"
      ],
      "metadata": {
        "colab": {
          "base_uri": "https://localhost:8080/"
        },
        "id": "SdAj_OzjggAh",
        "outputId": "5ae45ee6-e63d-4f55-a3a5-e70e2371b9e9"
      },
      "execution_count": 21,
      "outputs": [
        {
          "output_type": "stream",
          "name": "stdout",
          "text": [
            "4\n",
            "[0. 0. 0. 0. 1. 0. 0. 0. 0. 0.]\n"
          ]
        }
      ]
    },
    {
      "cell_type": "code",
      "source": [
        "# Train the model\n",
        "epochs=10\n",
        "batch = 64\n",
        "history = model.fit(X_train, y_train1,epochs=epochs,\n",
        "batch_size=batch,verbose=1, validation_data=(X_test, y_test1))"
      ],
      "metadata": {
        "colab": {
          "base_uri": "https://localhost:8080/"
        },
        "id": "I4FnZLQ4gksv",
        "outputId": "e89d6814-1563-410a-f479-f90d6d3deaab"
      },
      "execution_count": 22,
      "outputs": [
        {
          "output_type": "stream",
          "name": "stdout",
          "text": [
            "Epoch 1/10\n",
            "938/938 [==============================] - 4s 3ms/step - loss: 0.3831 - accuracy: 0.8892 - auc: 0.9905 - val_loss: 0.1928 - val_accuracy: 0.9447 - val_auc: 0.9961\n",
            "Epoch 2/10\n",
            "938/938 [==============================] - 3s 3ms/step - loss: 0.1755 - accuracy: 0.9480 - auc: 0.9967 - val_loss: 0.1609 - val_accuracy: 0.9530 - val_auc: 0.9969\n",
            "Epoch 3/10\n",
            "938/938 [==============================] - 2s 2ms/step - loss: 0.1337 - accuracy: 0.9600 - auc: 0.9979 - val_loss: 0.1222 - val_accuracy: 0.9639 - val_auc: 0.9977\n",
            "Epoch 4/10\n",
            "938/938 [==============================] - 2s 2ms/step - loss: 0.1088 - accuracy: 0.9668 - auc: 0.9983 - val_loss: 0.1290 - val_accuracy: 0.9632 - val_auc: 0.9973\n",
            "Epoch 5/10\n",
            "938/938 [==============================] - 2s 2ms/step - loss: 0.0941 - accuracy: 0.9713 - auc: 0.9987 - val_loss: 0.1121 - val_accuracy: 0.9667 - val_auc: 0.9979\n",
            "Epoch 6/10\n",
            "938/938 [==============================] - 2s 2ms/step - loss: 0.0823 - accuracy: 0.9744 - auc: 0.9989 - val_loss: 0.1070 - val_accuracy: 0.9676 - val_auc: 0.9981\n",
            "Epoch 7/10\n",
            "938/938 [==============================] - 5s 6ms/step - loss: 0.0729 - accuracy: 0.9770 - auc: 0.9991 - val_loss: 0.1069 - val_accuracy: 0.9666 - val_auc: 0.9976\n",
            "Epoch 8/10\n",
            "938/938 [==============================] - 4s 4ms/step - loss: 0.0667 - accuracy: 0.9793 - auc: 0.9991 - val_loss: 0.1105 - val_accuracy: 0.9669 - val_auc: 0.9974\n",
            "Epoch 9/10\n",
            "938/938 [==============================] - 6s 6ms/step - loss: 0.0597 - accuracy: 0.9815 - auc: 0.9993 - val_loss: 0.1010 - val_accuracy: 0.9710 - val_auc: 0.9975\n",
            "Epoch 10/10\n",
            "938/938 [==============================] - 4s 4ms/step - loss: 0.0532 - accuracy: 0.9828 - auc: 0.9994 - val_loss: 0.0970 - val_accuracy: 0.9737 - val_auc: 0.9976\n"
          ]
        }
      ]
    },
    {
      "cell_type": "code",
      "source": [
        "epochRange = range(1,epochs+1);\n",
        "plt.plot(epochRange,history.history['loss'])\n",
        "plt.plot(epochRange,history.history['val_loss'])\n",
        "plt.xlabel('Epoch')\n",
        "plt.ylabel('Loss')\n",
        "plt.grid()\n",
        "plt.xlim((1,epochs))\n",
        "plt.legend(['Train','Test'])\n",
        "plt.show()"
      ],
      "metadata": {
        "colab": {
          "base_uri": "https://localhost:8080/",
          "height": 449
        },
        "id": "WYVGcN6Jgobh",
        "outputId": "7afcc9eb-3822-4b4d-8d37-c5a2fa063de1"
      },
      "execution_count": 23,
      "outputs": [
        {
          "output_type": "display_data",
          "data": {
            "text/plain": [
              "<Figure size 640x480 with 1 Axes>"
            ],
            "image/png": "[encoded data removed]"
          },
          "metadata": {}
        }
      ]
    },
    {
      "cell_type": "code",
      "source": [
        "plt.plot(epochRange,history.history['accuracy'])\n",
        "plt.plot(epochRange,history.history['val_accuracy'])\n",
        "plt.xlabel('Epoch')\n",
        "plt.ylabel('Accuracy')\n",
        "plt.grid()\n",
        "plt.xlim((1,epochs))\n",
        "plt.legend(['Train','Test'])\n",
        "plt.show()"
      ],
      "metadata": {
        "colab": {
          "base_uri": "https://localhost:8080/",
          "height": 449
        },
        "id": "MtNT1mXVguOZ",
        "outputId": "d99cd454-5b1a-442f-e862-063c00c0ffbc"
      },
      "execution_count": 24,
      "outputs": [
        {
          "output_type": "display_data",
          "data": {
            "text/plain": [
              "<Figure size 640x480 with 1 Axes>"
            ],
            "image/png": "[encoded data removed]"
          },
          "metadata": {}
        }
      ]
    },
    {
      "cell_type": "code",
      "source": [
        "import numpy as np\n",
        "yhat_test_mdl_prob = model.predict(X_test);\n",
        "yhat_test_mdl = np.argmax(yhat_test_mdl_prob,axis=-1)\n",
        "print(yhat_test_mdl_prob[0])\n",
        "print(yhat_test_mdl[0:10])\n",
        "print(y_test[0:10])\n",
        "\n",
        "from sklearn.metrics import accuracy_score\n",
        "print('Accuracy:')\n",
        "print(float(accuracy_score(y_test, yhat_test_mdl))*100,'%')"
      ],
      "metadata": {
        "colab": {
          "base_uri": "https://localhost:8080/"
        },
        "id": "76ZZEWA6g0G0",
        "outputId": "c2b2855e-1091-4a43-b018-b349c66cb3db"
      },
      "execution_count": 26,
      "outputs": [
        {
          "output_type": "stream",
          "name": "stdout",
          "text": [
            "313/313 [==============================] - 2s 5ms/step\n",
            "[1.2747709e-05 4.2756906e-07 2.5966008e-06 1.4443049e-03 9.6608666e-11\n",
            " 2.1490700e-06 3.8222736e-10 9.9849784e-01 8.8767965e-06 3.0956395e-05]\n",
            "[7 2 1 0 4 1 4 9 5 9]\n",
            "[7 2 1 0 4 1 4 9 5 9]\n",
            "Accuracy:\n",
            "97.37 %\n"
          ]
        }
      ]
    },
    {
      "cell_type": "code",
      "source": [
        "from sklearn.metrics import confusion_matrix\n",
        "print('Confusion Matrix:')\n",
        "print(confusion_matrix(y_test, yhat_test_mdl))\n"
      ],
      "metadata": {
        "colab": {
          "base_uri": "https://localhost:8080/"
        },
        "id": "mB5Vgi3Yg5Em",
        "outputId": "dd3518e4-a906-4476-c315-053a0e220f1e"
      },
      "execution_count": 31,
      "outputs": [
        {
          "output_type": "stream",
          "name": "stdout",
          "text": [
            "Confusion Matrix:\n",
            "[[ 964    0    2    1    1    1    4    0    2    5]\n",
            " [   0 1126    2    1    0    2    2    0    2    0]\n",
            " [   2    2 1001    4    2    0    4   10    7    0]\n",
            " [   0    2    8  981    0    8    1    6    1    3]\n",
            " [   0    0    7    0  960    1    4    0    0   10]\n",
            " [   4    1    0   10    3  855    8    1    4    6]\n",
            " [   3    2    0    0    4    5  944    0    0    0]\n",
            " [   0    3    7    5    1    1    0 1008    1    2]\n",
            " [   3    2    7   17    5    5    4    5  924    2]\n",
            " [   2    5    0    6   12    2    0    8    0  974]]\n"
          ]
        }
      ]
    }
  ]
}