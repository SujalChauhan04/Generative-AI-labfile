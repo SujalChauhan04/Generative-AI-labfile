{
  "nbformat": 4,
  "nbformat_minor": 0,
  "metadata": {
    "colab": {
      "provenance": [],
      "authorship_tag": "ABX9TyObAJdSSS8KiMnZh1gSG+mM",
      "include_colab_link": true
    },
    "kernelspec": {
      "name": "python3",
      "display_name": "Python 3"
    },
    "language_info": {
      "name": "python"
    }
  },
  "cells": [
    {
      "cell_type": "markdown",
      "metadata": {
        "id": "view-in-github",
        "colab_type": "text"
      },
      "source": [
        "<a href=\"https://colab.research.google.com/github/SujalChauhan04/Generative-AI-labfile/blob/main/Experiment-1.ipynb\" target=\"_parent\"><img src=\"https://colab.research.google.com/assets/colab-badge.svg\" alt=\"Open In Colab\"/></a>"
      ]
    },
    {
      "cell_type": "code",
      "execution_count": 2,
      "metadata": {
        "id": "mzKvDHyuZwlm"
      },
      "outputs": [],
      "source": [
        "import numpy as np # For numerical operations and array handling\n",
        "import pandas as pd # For data manipulation and analysis\n",
        "import matplotlib.pyplot as plt # For data visualization\n",
        "import sklearn # For machine learning algorithms and tools"
      ]
    },
    {
      "cell_type": "code",
      "source": [
        "# load data\n",
        "url = 'https://raw.githubusercontent.com/jbrownlee/Datasets/master/pima-indians-diabetes.csv'\n",
        "data_pd = pd.read_csv(url, header = None)\n",
        "print(data_pd.info())\n",
        "print(data_pd.head())"
      ],
      "metadata": {
        "colab": {
          "base_uri": "https://localhost:8080/"
        },
        "id": "LAPhQwkPanQb",
        "outputId": "ce411814-8ba6-434f-dae9-ed45948e2ed6"
      },
      "execution_count": 4,
      "outputs": [
        {
          "output_type": "stream",
          "name": "stdout",
          "text": [
            "<class 'pandas.core.frame.DataFrame'>\n",
            "RangeIndex: 768 entries, 0 to 767\n",
            "Data columns (total 9 columns):\n",
            " #   Column  Non-Null Count  Dtype  \n",
            "---  ------  --------------  -----  \n",
            " 0   0       768 non-null    int64  \n",
            " 1   1       768 non-null    int64  \n",
            " 2   2       768 non-null    int64  \n",
            " 3   3       768 non-null    int64  \n",
            " 4   4       768 non-null    int64  \n",
            " 5   5       768 non-null    float64\n",
            " 6   6       768 non-null    float64\n",
            " 7   7       768 non-null    int64  \n",
            " 8   8       768 non-null    int64  \n",
            "dtypes: float64(2), int64(7)\n",
            "memory usage: 54.1 KB\n",
            "None\n",
            "   0    1   2   3    4     5      6   7  8\n",
            "0  6  148  72  35    0  33.6  0.627  50  1\n",
            "1  1   85  66  29    0  26.6  0.351  31  0\n",
            "2  8  183  64   0    0  23.3  0.672  32  1\n",
            "3  1   89  66  23   94  28.1  0.167  21  0\n",
            "4  0  137  40  35  168  43.1  2.288  33  1\n"
          ]
        }
      ]
    },
    {
      "cell_type": "code",
      "source": [
        "#Scaling Numerical columns\n",
        "from sklearn.preprocessing import StandardScaler\n",
        "std = StandardScaler()\n",
        "scaled = std.fit_transform(data_pd.iloc[:,0:8])\n",
        "scaled = pd.DataFrame(scaled)\n",
        "scaled.head()\n"
      ],
      "metadata": {
        "colab": {
          "base_uri": "https://localhost:8080/",
          "height": 206
        },
        "id": "MuXW0_0QbKkF",
        "outputId": "674ef91c-d73f-4ab0-8a83-a38c49274012"
      },
      "execution_count": 5,
      "outputs": [
        {
          "output_type": "execute_result",
          "data": {
            "text/plain": [
              "          0         1         2         3         4         5         6  \\\n",
              "0  0.639947  0.848324  0.149641  0.907270 -0.692891  0.204013  0.468492   \n",
              "1 -0.844885 -1.123396 -0.160546  0.530902 -0.692891 -0.684422 -0.365061   \n",
              "2  1.233880  1.943724 -0.263941 -1.288212 -0.692891 -1.103255  0.604397   \n",
              "3 -0.844885 -0.998208 -0.160546  0.154533  0.123302 -0.494043 -0.920763   \n",
              "4 -1.141852  0.504055 -1.504687  0.907270  0.765836  1.409746  5.484909   \n",
              "\n",
              "          7  \n",
              "0  1.425995  \n",
              "1 -0.190672  \n",
              "2 -0.105584  \n",
              "3 -1.041549  \n",
              "4 -0.020496  "
            ],
            "text/html": [
              "\n",
              "  <div id=\"df-e45fd38f-74db-485b-9392-d60c7c73c850\" class=\"colab-df-container\">\n",
              "    <div>\n",
              "<style scoped>\n",
              "    .dataframe tbody tr th:only-of-type {\n",
              "        vertical-align: middle;\n",
              "    }\n",
              "\n",
              "    .dataframe tbody tr th {\n",
              "        vertical-align: top;\n",
              "    }\n",
              "\n",
              "    .dataframe thead th {\n",
              "        text-align: right;\n",
              "    }\n",
              "</style>\n",
              "<table border=\"1\" class=\"dataframe\">\n",
              "  <thead>\n",
              "    <tr style=\"text-align: right;\">\n",
              "      <th></th>\n",
              "      <th>0</th>\n",
              "      <th>1</th>\n",
              "      <th>2</th>\n",
              "      <th>3</th>\n",
              "      <th>4</th>\n",
              "      <th>5</th>\n",
              "      <th>6</th>\n",
              "      <th>7</th>\n",
              "    </tr>\n",
              "  </thead>\n",
              "  <tbody>\n",
              "    <tr>\n",
              "      <th>0</th>\n",
              "      <td>0.639947</td>\n",
              "      <td>0.848324</td>\n",
              "      <td>0.149641</td>\n",
              "      <td>0.907270</td>\n",
              "      <td>-0.692891</td>\n",
              "      <td>0.204013</td>\n",
              "      <td>0.468492</td>\n",
              "      <td>1.425995</td>\n",
              "    </tr>\n",
              "    <tr>\n",
              "      <th>1</th>\n",
              "      <td>-0.844885</td>\n",
              "      <td>-1.123396</td>\n",
              "      <td>-0.160546</td>\n",
              "      <td>0.530902</td>\n",
              "      <td>-0.692891</td>\n",
              "      <td>-0.684422</td>\n",
              "      <td>-0.365061</td>\n",
              "      <td>-0.190672</td>\n",
              "    </tr>\n",
              "    <tr>\n",
              "      <th>2</th>\n",
              "      <td>1.233880</td>\n",
              "      <td>1.943724</td>\n",
              "      <td>-0.263941</td>\n",
              "      <td>-1.288212</td>\n",
              "      <td>-0.692891</td>\n",
              "      <td>-1.103255</td>\n",
              "      <td>0.604397</td>\n",
              "      <td>-0.105584</td>\n",
              "    </tr>\n",
              "    <tr>\n",
              "      <th>3</th>\n",
              "      <td>-0.844885</td>\n",
              "      <td>-0.998208</td>\n",
              "      <td>-0.160546</td>\n",
              "      <td>0.154533</td>\n",
              "      <td>0.123302</td>\n",
              "      <td>-0.494043</td>\n",
              "      <td>-0.920763</td>\n",
              "      <td>-1.041549</td>\n",
              "    </tr>\n",
              "    <tr>\n",
              "      <th>4</th>\n",
              "      <td>-1.141852</td>\n",
              "      <td>0.504055</td>\n",
              "      <td>-1.504687</td>\n",
              "      <td>0.907270</td>\n",
              "      <td>0.765836</td>\n",
              "      <td>1.409746</td>\n",
              "      <td>5.484909</td>\n",
              "      <td>-0.020496</td>\n",
              "    </tr>\n",
              "  </tbody>\n",
              "</table>\n",
              "</div>\n",
              "    <div class=\"colab-df-buttons\">\n",
              "\n",
              "  <div class=\"colab-df-container\">\n",
              "    <button class=\"colab-df-convert\" onclick=\"convertToInteractive('df-e45fd38f-74db-485b-9392-d60c7c73c850')\"\n",
              "            title=\"Convert this dataframe to an interactive table.\"\n",
              "            style=\"display:none;\">\n",
              "\n",
              "  <svg xmlns=\"http://www.w3.org/2000/svg\" height=\"24px\" viewBox=\"0 -960 960 960\">\n",
              "    <path d=\"M120-120v-720h720v720H120Zm60-500h600v-160H180v160Zm220 220h160v-160H400v160Zm0 220h160v-160H400v160ZM180-400h160v-160H180v160Zm440 0h160v-160H620v160ZM180-180h160v-160H180v160Zm440 0h160v-160H620v160Z\"/>\n",
              "  </svg>\n",
              "    </button>\n",
              "\n",
              "  <style>\n",
              "    .colab-df-container {\n",
              "      display:flex;\n",
              "      gap: 12px;\n",
              "    }\n",
              "\n",
              "    .colab-df-convert {\n",
              "      background-color: #E8F0FE;\n",
              "      border: none;\n",
              "      border-radius: 50%;\n",
              "      cursor: pointer;\n",
              "      display: none;\n",
              "      fill: #1967D2;\n",
              "      height: 32px;\n",
              "      padding: 0 0 0 0;\n",
              "      width: 32px;\n",
              "    }\n",
              "\n",
              "    .colab-df-convert:hover {\n",
              "      background-color: #E2EBFA;\n",
              "      box-shadow: 0px 1px 2px rgba(60, 64, 67, 0.3), 0px 1px 3px 1px rgba(60, 64, 67, 0.15);\n",
              "      fill: #174EA6;\n",
              "    }\n",
              "\n",
              "    .colab-df-buttons div {\n",
              "      margin-bottom: 4px;\n",
              "    }\n",
              "\n",
              "    [theme=dark] .colab-df-convert {\n",
              "      background-color: #3B4455;\n",
              "      fill: #D2E3FC;\n",
              "    }\n",
              "\n",
              "    [theme=dark] .colab-df-convert:hover {\n",
              "      background-color: #434B5C;\n",
              "      box-shadow: 0px 1px 3px 1px rgba(0, 0, 0, 0.15);\n",
              "      filter: drop-shadow(0px 1px 2px rgba(0, 0, 0, 0.3));\n",
              "      fill: #FFFFFF;\n",
              "    }\n",
              "  </style>\n",
              "\n",
              "    <script>\n",
              "      const buttonEl =\n",
              "        document.querySelector('#df-e45fd38f-74db-485b-9392-d60c7c73c850 button.colab-df-convert');\n",
              "      buttonEl.style.display =\n",
              "        google.colab.kernel.accessAllowed ? 'block' : 'none';\n",
              "\n",
              "      async function convertToInteractive(key) {\n",
              "        const element = document.querySelector('#df-e45fd38f-74db-485b-9392-d60c7c73c850');\n",
              "        const dataTable =\n",
              "          await google.colab.kernel.invokeFunction('convertToInteractive',\n",
              "                                                    [key], {});\n",
              "        if (!dataTable) return;\n",
              "\n",
              "        const docLinkHtml = 'Like what you see? Visit the ' +\n",
              "          '<a target=\"_blank\" href=https://colab.research.google.com/notebooks/data_table.ipynb>data table notebook</a>'\n",
              "          + ' to learn more about interactive tables.';\n",
              "        element.innerHTML = '';\n",
              "        dataTable['output_type'] = 'display_data';\n",
              "        await google.colab.output.renderOutput(dataTable, element);\n",
              "        const docLink = document.createElement('div');\n",
              "        docLink.innerHTML = docLinkHtml;\n",
              "        element.appendChild(docLink);\n",
              "      }\n",
              "    </script>\n",
              "  </div>\n",
              "\n",
              "\n",
              "<div id=\"df-bcabb634-8f56-49c5-836d-2e3d5eca569c\">\n",
              "  <button class=\"colab-df-quickchart\" onclick=\"quickchart('df-bcabb634-8f56-49c5-836d-2e3d5eca569c')\"\n",
              "            title=\"Suggest charts\"\n",
              "            style=\"display:none;\">\n",
              "\n",
              "<svg xmlns=\"http://www.w3.org/2000/svg\" height=\"24px\"viewBox=\"0 0 24 24\"\n",
              "     width=\"24px\">\n",
              "    <g>\n",
              "        <path d=\"M19 3H5c-1.1 0-2 .9-2 2v14c0 1.1.9 2 2 2h14c1.1 0 2-.9 2-2V5c0-1.1-.9-2-2-2zM9 17H7v-7h2v7zm4 0h-2V7h2v10zm4 0h-2v-4h2v4z\"/>\n",
              "    </g>\n",
              "</svg>\n",
              "  </button>\n",
              "\n",
              "<style>\n",
              "  .colab-df-quickchart {\n",
              "      --bg-color: #E8F0FE;\n",
              "      --fill-color: #1967D2;\n",
              "      --hover-bg-color: #E2EBFA;\n",
              "      --hover-fill-color: #174EA6;\n",
              "      --disabled-fill-color: #AAA;\n",
              "      --disabled-bg-color: #DDD;\n",
              "  }\n",
              "\n",
              "  [theme=dark] .colab-df-quickchart {\n",
              "      --bg-color: #3B4455;\n",
              "      --fill-color: #D2E3FC;\n",
              "      --hover-bg-color: #434B5C;\n",
              "      --hover-fill-color: #FFFFFF;\n",
              "      --disabled-bg-color: #3B4455;\n",
              "      --disabled-fill-color: #666;\n",
              "  }\n",
              "\n",
              "  .colab-df-quickchart {\n",
              "    background-color: var(--bg-color);\n",
              "    border: none;\n",
              "    border-radius: 50%;\n",
              "    cursor: pointer;\n",
              "    display: none;\n",
              "    fill: var(--fill-color);\n",
              "    height: 32px;\n",
              "    padding: 0;\n",
              "    width: 32px;\n",
              "  }\n",
              "\n",
              "  .colab-df-quickchart:hover {\n",
              "    background-color: var(--hover-bg-color);\n",
              "    box-shadow: 0 1px 2px rgba(60, 64, 67, 0.3), 0 1px 3px 1px rgba(60, 64, 67, 0.15);\n",
              "    fill: var(--button-hover-fill-color);\n",
              "  }\n",
              "\n",
              "  .colab-df-quickchart-complete:disabled,\n",
              "  .colab-df-quickchart-complete:disabled:hover {\n",
              "    background-color: var(--disabled-bg-color);\n",
              "    fill: var(--disabled-fill-color);\n",
              "    box-shadow: none;\n",
              "  }\n",
              "\n",
              "  .colab-df-spinner {\n",
              "    border: 2px solid var(--fill-color);\n",
              "    border-color: transparent;\n",
              "    border-bottom-color: var(--fill-color);\n",
              "    animation:\n",
              "      spin 1s steps(1) infinite;\n",
              "  }\n",
              "\n",
              "  @keyframes spin {\n",
              "    0% {\n",
              "      border-color: transparent;\n",
              "      border-bottom-color: var(--fill-color);\n",
              "      border-left-color: var(--fill-color);\n",
              "    }\n",
              "    20% {\n",
              "      border-color: transparent;\n",
              "      border-left-color: var(--fill-color);\n",
              "      border-top-color: var(--fill-color);\n",
              "    }\n",
              "    30% {\n",
              "      border-color: transparent;\n",
              "      border-left-color: var(--fill-color);\n",
              "      border-top-color: var(--fill-color);\n",
              "      border-right-color: var(--fill-color);\n",
              "    }\n",
              "    40% {\n",
              "      border-color: transparent;\n",
              "      border-right-color: var(--fill-color);\n",
              "      border-top-color: var(--fill-color);\n",
              "    }\n",
              "    60% {\n",
              "      border-color: transparent;\n",
              "      border-right-color: var(--fill-color);\n",
              "    }\n",
              "    80% {\n",
              "      border-color: transparent;\n",
              "      border-right-color: var(--fill-color);\n",
              "      border-bottom-color: var(--fill-color);\n",
              "    }\n",
              "    90% {\n",
              "      border-color: transparent;\n",
              "      border-bottom-color: var(--fill-color);\n",
              "    }\n",
              "  }\n",
              "</style>\n",
              "\n",
              "  <script>\n",
              "    async function quickchart(key) {\n",
              "      const quickchartButtonEl =\n",
              "        document.querySelector('#' + key + ' button');\n",
              "      quickchartButtonEl.disabled = true;  // To prevent multiple clicks.\n",
              "      quickchartButtonEl.classList.add('colab-df-spinner');\n",
              "      try {\n",
              "        const charts = await google.colab.kernel.invokeFunction(\n",
              "            'suggestCharts', [key], {});\n",
              "      } catch (error) {\n",
              "        console.error('Error during call to suggestCharts:', error);\n",
              "      }\n",
              "      quickchartButtonEl.classList.remove('colab-df-spinner');\n",
              "      quickchartButtonEl.classList.add('colab-df-quickchart-complete');\n",
              "    }\n",
              "    (() => {\n",
              "      let quickchartButtonEl =\n",
              "        document.querySelector('#df-bcabb634-8f56-49c5-836d-2e3d5eca569c button');\n",
              "      quickchartButtonEl.style.display =\n",
              "        google.colab.kernel.accessAllowed ? 'block' : 'none';\n",
              "    })();\n",
              "  </script>\n",
              "</div>\n",
              "\n",
              "    </div>\n",
              "  </div>\n"
            ],
            "application/vnd.google.colaboratory.intrinsic+json": {
              "type": "dataframe",
              "variable_name": "scaled",
              "summary": "{\n  \"name\": \"scaled\",\n  \"rows\": 768,\n  \"fields\": [\n    {\n      \"column\": 0,\n      \"properties\": {\n        \"dtype\": \"number\",\n        \"std\": 1.0006516781401997,\n        \"min\": -1.1418515161634994,\n        \"max\": 3.906578350084603,\n        \"num_unique_values\": 17,\n        \"samples\": [\n          0.6399472601593604,\n          -0.8448850534430228,\n          -0.2509521280020695\n        ],\n        \"semantic_type\": \"\",\n        \"description\": \"\"\n      }\n    },\n    {\n      \"column\": 1,\n      \"properties\": {\n        \"dtype\": \"number\",\n        \"std\": 1.0006516781401997,\n        \"min\": -3.78365371377963,\n        \"max\": 2.4444782063079162,\n        \"num_unique_values\": 136,\n        \"samples\": [\n          0.9422152306084076,\n          -0.6226420357452472,\n          -0.2783734371474431\n        ],\n        \"semantic_type\": \"\",\n        \"description\": \"\"\n      }\n    },\n    {\n      \"column\": 2,\n      \"properties\": {\n        \"dtype\": \"number\",\n        \"std\": 1.0006516781401997,\n        \"min\": -3.572597239872642,\n        \"max\": 2.734528247420465,\n        \"num_unique_values\": 47,\n        \"samples\": [\n          0.87340925117004,\n          -1.1945007446637657,\n          0.8217115012741948\n        ],\n        \"semantic_type\": \"\",\n        \"description\": \"\"\n      }\n    },\n    {\n      \"column\": 3,\n      \"properties\": {\n        \"dtype\": \"number\",\n        \"std\": 1.0006516781401995,\n        \"min\": -1.2882122129452358,\n        \"max\": 4.921865835155968,\n        \"num_unique_values\": 51,\n        \"samples\": [\n          -0.8491157853017165,\n          -0.5354754798420597,\n          1.722734719467469\n        ],\n        \"semantic_type\": \"\",\n        \"description\": \"\"\n      }\n    },\n    {\n      \"column\": 4,\n      \"properties\": {\n        \"dtype\": \"number\",\n        \"std\": 1.0006516781401995,\n        \"min\": -0.6928905722954675,\n        \"max\": 6.65283937836846,\n        \"num_unique_values\": 186,\n        \"samples\": [\n          -0.2413799843113963,\n          -0.3368918394618729,\n          0.8960793815715523\n        ],\n        \"semantic_type\": \"\",\n        \"description\": \"\"\n      }\n    },\n    {\n      \"column\": 5,\n      \"properties\": {\n        \"dtype\": \"number\",\n        \"std\": 1.0006516781401997,\n        \"min\": -4.060473872668307,\n        \"max\": 4.455807490825071,\n        \"num_unique_values\": 248,\n        \"samples\": [\n          -1.5347808900525366,\n          -0.1259772665834379,\n          0.775149375455355\n        ],\n        \"semantic_type\": \"\",\n        \"description\": \"\"\n      }\n    },\n    {\n      \"column\": 6,\n      \"properties\": {\n        \"dtype\": \"number\",\n        \"std\": 1.0006516781401997,\n        \"min\": -1.1895531764897842,\n        \"max\": 5.88356476587794,\n        \"num_unique_values\": 517,\n        \"samples\": [\n          3.802702997179665,\n          -0.13855187676990025,\n          -1.008346055848425\n        ],\n        \"semantic_type\": \"\",\n        \"description\": \"\"\n      }\n    },\n    {\n      \"column\": 7,\n      \"properties\": {\n        \"dtype\": \"number\",\n        \"std\": 1.0006516781401997,\n        \"min\": -1.0415494364835023,\n        \"max\": 4.063715751598595,\n        \"num_unique_values\": 52,\n        \"samples\": [\n          2.276872935769861,\n          1.1707321450187398,\n          3.2979259733862807\n        ],\n        \"semantic_type\": \"\",\n        \"description\": \"\"\n      }\n    }\n  ]\n}"
            }
          },
          "metadata": {},
          "execution_count": 5
        }
      ]
    },
    {
      "cell_type": "code",
      "source": [
        "# Transforming and Extracting Features\n",
        "X_data = scaled.to_numpy()\n",
        "print('X_data:', np.shape(X_data))\n",
        "# Extracting Labels\n",
        "Y_data = data_pd.iloc[:,8]\n",
        "print('Y_data:', np.shape(Y_data))"
      ],
      "metadata": {
        "colab": {
          "base_uri": "https://localhost:8080/"
        },
        "id": "vCavbsqSbjot",
        "outputId": "b62de76d-b19f-49f2-96b4-2a28620b1a17"
      },
      "execution_count": 6,
      "outputs": [
        {
          "output_type": "stream",
          "name": "stdout",
          "text": [
            "X_data: (768, 8)\n",
            "Y_data: (768,)\n"
          ]
        }
      ]
    },
    {
      "cell_type": "code",
      "source": [
        "# Split data into X_train, X_test, y_train, y_test\n",
        "from sklearn.model_selection import train_test_split\n",
        "X_train, X_test, y_train, y_test = train_test_split(X_data, Y_data,\n",
        "test_size=0.25, random_state= 0)\n",
        "# Check the dimension of the sets\n",
        "print('X_train:',np.shape(X_train))\n",
        "print('y_train:',np.shape(y_train))\n",
        "print('X_test:',np.shape(X_test))\n",
        "print('y_test:',np.shape(y_test))"
      ],
      "metadata": {
        "colab": {
          "base_uri": "https://localhost:8080/"
        },
        "id": "GBUqo25-btks",
        "outputId": "460f1b15-22c7-4204-af95-808ff0de2167"
      },
      "execution_count": 7,
      "outputs": [
        {
          "output_type": "stream",
          "name": "stdout",
          "text": [
            "X_train: (576, 8)\n",
            "y_train: (576,)\n",
            "X_test: (192, 8)\n",
            "y_test: (192,)\n"
          ]
        }
      ]
    },
    {
      "cell_type": "code",
      "source": [
        "import keras\n",
        "from keras.models import Sequential # importing Sequential model\n",
        "from keras.layers import Dense # importing Dense layers"
      ],
      "metadata": {
        "id": "9-puO36Pb2Sg"
      },
      "execution_count": 8,
      "outputs": []
    },
    {
      "cell_type": "code",
      "source": [
        "# declaring model\n",
        "basic_model = Sequential()\n",
        "# First layers: 8 neurons/perceptrons that takes the input and uses 'sigmoid' activation function.\n",
        "basic_model.add(Dense(8, input_dim = 8, activation = 'sigmoid'))\n",
        "# Second layers: 4 neurons/perceptrons, 'sigmoid' activation function.\n",
        "basic_model.add(Dense(4, activation = 'sigmoid'))\n",
        "# Final layer: 1 neuron/perceptron to do binary classification\n",
        "basic_model.add(Dense(1, activation = 'sigmoid'))"
      ],
      "metadata": {
        "id": "o48v5SXFb73u"
      },
      "execution_count": 11,
      "outputs": []
    },
    {
      "cell_type": "code",
      "source": [
        "basic_model.compile(loss = 'binary_crossentropy', optimizer = 'adam', metrics\n",
        "= ['accuracy'])"
      ],
      "metadata": {
        "id": "DbeYVERWcKu9"
      },
      "execution_count": 12,
      "outputs": []
    },
    {
      "cell_type": "code",
      "source": [
        "# training the model\n",
        "epochs=120\n",
        "history = basic_model.fit(X_train, y_train, validation_data=(X_test, y_test),\n",
        "epochs=epochs)"
      ],
      "metadata": {
        "colab": {
          "base_uri": "https://localhost:8080/"
        },
        "id": "rbrdkg1McSaI",
        "outputId": "41d36365-9d8f-484a-a962-02a5f8aa59a1"
      },
      "execution_count": 13,
      "outputs": [
        {
          "output_type": "stream",
          "name": "stdout",
          "text": [
            "Epoch 1/120\n",
            "18/18 [==============================] - 1s 9ms/step - loss: 0.7385 - accuracy: 0.3576 - val_loss: 0.7369 - val_accuracy: 0.3229\n",
            "Epoch 2/120\n",
            "18/18 [==============================] - 0s 3ms/step - loss: 0.7193 - accuracy: 0.3576 - val_loss: 0.7168 - val_accuracy: 0.3229\n",
            "Epoch 3/120\n",
            "18/18 [==============================] - 0s 3ms/step - loss: 0.7031 - accuracy: 0.3698 - val_loss: 0.6986 - val_accuracy: 0.3750\n",
            "Epoch 4/120\n",
            "18/18 [==============================] - 0s 2ms/step - loss: 0.6891 - accuracy: 0.5278 - val_loss: 0.6834 - val_accuracy: 0.6354\n",
            "Epoch 5/120\n",
            "18/18 [==============================] - 0s 3ms/step - loss: 0.6773 - accuracy: 0.6910 - val_loss: 0.6704 - val_accuracy: 0.7396\n",
            "Epoch 6/120\n",
            "18/18 [==============================] - 0s 3ms/step - loss: 0.6672 - accuracy: 0.6892 - val_loss: 0.6596 - val_accuracy: 0.7031\n",
            "Epoch 7/120\n",
            "18/18 [==============================] - 0s 3ms/step - loss: 0.6591 - accuracy: 0.6493 - val_loss: 0.6500 - val_accuracy: 0.6823\n",
            "Epoch 8/120\n",
            "18/18 [==============================] - 0s 3ms/step - loss: 0.6518 - accuracy: 0.6441 - val_loss: 0.6419 - val_accuracy: 0.6771\n",
            "Epoch 9/120\n",
            "18/18 [==============================] - 0s 3ms/step - loss: 0.6461 - accuracy: 0.6441 - val_loss: 0.6345 - val_accuracy: 0.6771\n",
            "Epoch 10/120\n",
            "18/18 [==============================] - 0s 3ms/step - loss: 0.6405 - accuracy: 0.6441 - val_loss: 0.6291 - val_accuracy: 0.6771\n",
            "Epoch 11/120\n",
            "18/18 [==============================] - 0s 3ms/step - loss: 0.6360 - accuracy: 0.6441 - val_loss: 0.6237 - val_accuracy: 0.6771\n",
            "Epoch 12/120\n",
            "18/18 [==============================] - 0s 3ms/step - loss: 0.6319 - accuracy: 0.6441 - val_loss: 0.6189 - val_accuracy: 0.6771\n",
            "Epoch 13/120\n",
            "18/18 [==============================] - 0s 3ms/step - loss: 0.6283 - accuracy: 0.6441 - val_loss: 0.6142 - val_accuracy: 0.6771\n",
            "Epoch 14/120\n",
            "18/18 [==============================] - 0s 3ms/step - loss: 0.6247 - accuracy: 0.6441 - val_loss: 0.6101 - val_accuracy: 0.6771\n",
            "Epoch 15/120\n",
            "18/18 [==============================] - 0s 2ms/step - loss: 0.6211 - accuracy: 0.6441 - val_loss: 0.6068 - val_accuracy: 0.6771\n",
            "Epoch 16/120\n",
            "18/18 [==============================] - 0s 3ms/step - loss: 0.6179 - accuracy: 0.6441 - val_loss: 0.6031 - val_accuracy: 0.6771\n",
            "Epoch 17/120\n",
            "18/18 [==============================] - 0s 2ms/step - loss: 0.6147 - accuracy: 0.6441 - val_loss: 0.5996 - val_accuracy: 0.6771\n",
            "Epoch 18/120\n",
            "18/18 [==============================] - 0s 2ms/step - loss: 0.6116 - accuracy: 0.6441 - val_loss: 0.5962 - val_accuracy: 0.6771\n",
            "Epoch 19/120\n",
            "18/18 [==============================] - 0s 2ms/step - loss: 0.6084 - accuracy: 0.6441 - val_loss: 0.5931 - val_accuracy: 0.6823\n",
            "Epoch 20/120\n",
            "18/18 [==============================] - 0s 3ms/step - loss: 0.6053 - accuracy: 0.6458 - val_loss: 0.5898 - val_accuracy: 0.6823\n",
            "Epoch 21/120\n",
            "18/18 [==============================] - 0s 4ms/step - loss: 0.6021 - accuracy: 0.6545 - val_loss: 0.5865 - val_accuracy: 0.6823\n",
            "Epoch 22/120\n",
            "18/18 [==============================] - 0s 4ms/step - loss: 0.5991 - accuracy: 0.6597 - val_loss: 0.5831 - val_accuracy: 0.6875\n",
            "Epoch 23/120\n",
            "18/18 [==============================] - 0s 4ms/step - loss: 0.5956 - accuracy: 0.6615 - val_loss: 0.5804 - val_accuracy: 0.7031\n",
            "Epoch 24/120\n",
            "18/18 [==============================] - 0s 4ms/step - loss: 0.5926 - accuracy: 0.6719 - val_loss: 0.5770 - val_accuracy: 0.7188\n",
            "Epoch 25/120\n",
            "18/18 [==============================] - 0s 4ms/step - loss: 0.5892 - accuracy: 0.6753 - val_loss: 0.5740 - val_accuracy: 0.7344\n",
            "Epoch 26/120\n",
            "18/18 [==============================] - 0s 3ms/step - loss: 0.5858 - accuracy: 0.6858 - val_loss: 0.5707 - val_accuracy: 0.7396\n",
            "Epoch 27/120\n",
            "18/18 [==============================] - 0s 3ms/step - loss: 0.5827 - accuracy: 0.6944 - val_loss: 0.5674 - val_accuracy: 0.7344\n",
            "Epoch 28/120\n",
            "18/18 [==============================] - 0s 3ms/step - loss: 0.5792 - accuracy: 0.6979 - val_loss: 0.5643 - val_accuracy: 0.7344\n",
            "Epoch 29/120\n",
            "18/18 [==============================] - 0s 3ms/step - loss: 0.5760 - accuracy: 0.7066 - val_loss: 0.5612 - val_accuracy: 0.7344\n",
            "Epoch 30/120\n",
            "18/18 [==============================] - 0s 4ms/step - loss: 0.5728 - accuracy: 0.7118 - val_loss: 0.5577 - val_accuracy: 0.7344\n",
            "Epoch 31/120\n",
            "18/18 [==============================] - 0s 3ms/step - loss: 0.5697 - accuracy: 0.7188 - val_loss: 0.5545 - val_accuracy: 0.7344\n",
            "Epoch 32/120\n",
            "18/18 [==============================] - 0s 4ms/step - loss: 0.5662 - accuracy: 0.7292 - val_loss: 0.5516 - val_accuracy: 0.7448\n",
            "Epoch 33/120\n",
            "18/18 [==============================] - 0s 4ms/step - loss: 0.5631 - accuracy: 0.7413 - val_loss: 0.5485 - val_accuracy: 0.7396\n",
            "Epoch 34/120\n",
            "18/18 [==============================] - 0s 3ms/step - loss: 0.5599 - accuracy: 0.7413 - val_loss: 0.5455 - val_accuracy: 0.7396\n",
            "Epoch 35/120\n",
            "18/18 [==============================] - 0s 4ms/step - loss: 0.5568 - accuracy: 0.7413 - val_loss: 0.5423 - val_accuracy: 0.7448\n",
            "Epoch 36/120\n",
            "18/18 [==============================] - 0s 3ms/step - loss: 0.5537 - accuracy: 0.7465 - val_loss: 0.5394 - val_accuracy: 0.7500\n",
            "Epoch 37/120\n",
            "18/18 [==============================] - 0s 3ms/step - loss: 0.5507 - accuracy: 0.7465 - val_loss: 0.5365 - val_accuracy: 0.7656\n",
            "Epoch 38/120\n",
            "18/18 [==============================] - 0s 3ms/step - loss: 0.5477 - accuracy: 0.7448 - val_loss: 0.5335 - val_accuracy: 0.7604\n",
            "Epoch 39/120\n",
            "18/18 [==============================] - 0s 4ms/step - loss: 0.5447 - accuracy: 0.7500 - val_loss: 0.5306 - val_accuracy: 0.7500\n",
            "Epoch 40/120\n",
            "18/18 [==============================] - 0s 3ms/step - loss: 0.5419 - accuracy: 0.7517 - val_loss: 0.5278 - val_accuracy: 0.7552\n",
            "Epoch 41/120\n",
            "18/18 [==============================] - 0s 4ms/step - loss: 0.5391 - accuracy: 0.7535 - val_loss: 0.5251 - val_accuracy: 0.7552\n",
            "Epoch 42/120\n",
            "18/18 [==============================] - 0s 3ms/step - loss: 0.5367 - accuracy: 0.7535 - val_loss: 0.5223 - val_accuracy: 0.7500\n",
            "Epoch 43/120\n",
            "18/18 [==============================] - 0s 4ms/step - loss: 0.5338 - accuracy: 0.7569 - val_loss: 0.5196 - val_accuracy: 0.7448\n",
            "Epoch 44/120\n",
            "18/18 [==============================] - 0s 4ms/step - loss: 0.5315 - accuracy: 0.7569 - val_loss: 0.5170 - val_accuracy: 0.7396\n",
            "Epoch 45/120\n",
            "18/18 [==============================] - 0s 4ms/step - loss: 0.5291 - accuracy: 0.7569 - val_loss: 0.5146 - val_accuracy: 0.7396\n",
            "Epoch 46/120\n",
            "18/18 [==============================] - 0s 4ms/step - loss: 0.5266 - accuracy: 0.7569 - val_loss: 0.5121 - val_accuracy: 0.7448\n",
            "Epoch 47/120\n",
            "18/18 [==============================] - 0s 2ms/step - loss: 0.5243 - accuracy: 0.7587 - val_loss: 0.5097 - val_accuracy: 0.7396\n",
            "Epoch 48/120\n",
            "18/18 [==============================] - 0s 2ms/step - loss: 0.5219 - accuracy: 0.7622 - val_loss: 0.5076 - val_accuracy: 0.7344\n",
            "Epoch 49/120\n",
            "18/18 [==============================] - 0s 2ms/step - loss: 0.5200 - accuracy: 0.7656 - val_loss: 0.5053 - val_accuracy: 0.7344\n",
            "Epoch 50/120\n",
            "18/18 [==============================] - 0s 3ms/step - loss: 0.5180 - accuracy: 0.7674 - val_loss: 0.5032 - val_accuracy: 0.7396\n",
            "Epoch 51/120\n",
            "18/18 [==============================] - 0s 3ms/step - loss: 0.5160 - accuracy: 0.7639 - val_loss: 0.5011 - val_accuracy: 0.7396\n",
            "Epoch 52/120\n",
            "18/18 [==============================] - 0s 2ms/step - loss: 0.5143 - accuracy: 0.7639 - val_loss: 0.4990 - val_accuracy: 0.7396\n",
            "Epoch 53/120\n",
            "18/18 [==============================] - 0s 2ms/step - loss: 0.5125 - accuracy: 0.7656 - val_loss: 0.4971 - val_accuracy: 0.7448\n",
            "Epoch 54/120\n",
            "18/18 [==============================] - 0s 2ms/step - loss: 0.5108 - accuracy: 0.7656 - val_loss: 0.4954 - val_accuracy: 0.7448\n",
            "Epoch 55/120\n",
            "18/18 [==============================] - 0s 3ms/step - loss: 0.5091 - accuracy: 0.7674 - val_loss: 0.4936 - val_accuracy: 0.7448\n",
            "Epoch 56/120\n",
            "18/18 [==============================] - 0s 2ms/step - loss: 0.5078 - accuracy: 0.7656 - val_loss: 0.4917 - val_accuracy: 0.7448\n",
            "Epoch 57/120\n",
            "18/18 [==============================] - 0s 2ms/step - loss: 0.5061 - accuracy: 0.7622 - val_loss: 0.4902 - val_accuracy: 0.7500\n",
            "Epoch 58/120\n",
            "18/18 [==============================] - 0s 3ms/step - loss: 0.5049 - accuracy: 0.7639 - val_loss: 0.4886 - val_accuracy: 0.7604\n",
            "Epoch 59/120\n",
            "18/18 [==============================] - 0s 3ms/step - loss: 0.5035 - accuracy: 0.7656 - val_loss: 0.4870 - val_accuracy: 0.7552\n",
            "Epoch 60/120\n",
            "18/18 [==============================] - 0s 2ms/step - loss: 0.5023 - accuracy: 0.7656 - val_loss: 0.4854 - val_accuracy: 0.7552\n",
            "Epoch 61/120\n",
            "18/18 [==============================] - 0s 3ms/step - loss: 0.5011 - accuracy: 0.7639 - val_loss: 0.4842 - val_accuracy: 0.7604\n",
            "Epoch 62/120\n",
            "18/18 [==============================] - 0s 3ms/step - loss: 0.5000 - accuracy: 0.7674 - val_loss: 0.4831 - val_accuracy: 0.7604\n",
            "Epoch 63/120\n",
            "18/18 [==============================] - 0s 3ms/step - loss: 0.4989 - accuracy: 0.7691 - val_loss: 0.4816 - val_accuracy: 0.7760\n",
            "Epoch 64/120\n",
            "18/18 [==============================] - 0s 4ms/step - loss: 0.4980 - accuracy: 0.7726 - val_loss: 0.4805 - val_accuracy: 0.7760\n",
            "Epoch 65/120\n",
            "18/18 [==============================] - 0s 3ms/step - loss: 0.4973 - accuracy: 0.7708 - val_loss: 0.4792 - val_accuracy: 0.7708\n",
            "Epoch 66/120\n",
            "18/18 [==============================] - 0s 3ms/step - loss: 0.4962 - accuracy: 0.7726 - val_loss: 0.4780 - val_accuracy: 0.7708\n",
            "Epoch 67/120\n",
            "18/18 [==============================] - 0s 2ms/step - loss: 0.4954 - accuracy: 0.7726 - val_loss: 0.4770 - val_accuracy: 0.7708\n",
            "Epoch 68/120\n",
            "18/18 [==============================] - 0s 2ms/step - loss: 0.4945 - accuracy: 0.7726 - val_loss: 0.4761 - val_accuracy: 0.7760\n",
            "Epoch 69/120\n",
            "18/18 [==============================] - 0s 2ms/step - loss: 0.4939 - accuracy: 0.7708 - val_loss: 0.4751 - val_accuracy: 0.7812\n",
            "Epoch 70/120\n",
            "18/18 [==============================] - 0s 3ms/step - loss: 0.4932 - accuracy: 0.7726 - val_loss: 0.4743 - val_accuracy: 0.7812\n",
            "Epoch 71/120\n",
            "18/18 [==============================] - 0s 3ms/step - loss: 0.4926 - accuracy: 0.7708 - val_loss: 0.4736 - val_accuracy: 0.7812\n",
            "Epoch 72/120\n",
            "18/18 [==============================] - 0s 2ms/step - loss: 0.4919 - accuracy: 0.7708 - val_loss: 0.4727 - val_accuracy: 0.7812\n",
            "Epoch 73/120\n",
            "18/18 [==============================] - 0s 2ms/step - loss: 0.4914 - accuracy: 0.7691 - val_loss: 0.4719 - val_accuracy: 0.7812\n",
            "Epoch 74/120\n",
            "18/18 [==============================] - 0s 2ms/step - loss: 0.4909 - accuracy: 0.7726 - val_loss: 0.4709 - val_accuracy: 0.7812\n",
            "Epoch 75/120\n",
            "18/18 [==============================] - 0s 3ms/step - loss: 0.4901 - accuracy: 0.7708 - val_loss: 0.4702 - val_accuracy: 0.7812\n",
            "Epoch 76/120\n",
            "18/18 [==============================] - 0s 3ms/step - loss: 0.4897 - accuracy: 0.7743 - val_loss: 0.4696 - val_accuracy: 0.7812\n",
            "Epoch 77/120\n",
            "18/18 [==============================] - 0s 3ms/step - loss: 0.4891 - accuracy: 0.7743 - val_loss: 0.4690 - val_accuracy: 0.7760\n",
            "Epoch 78/120\n",
            "18/18 [==============================] - 0s 3ms/step - loss: 0.4888 - accuracy: 0.7726 - val_loss: 0.4686 - val_accuracy: 0.7760\n",
            "Epoch 79/120\n",
            "18/18 [==============================] - 0s 2ms/step - loss: 0.4884 - accuracy: 0.7726 - val_loss: 0.4679 - val_accuracy: 0.7760\n",
            "Epoch 80/120\n",
            "18/18 [==============================] - 0s 3ms/step - loss: 0.4879 - accuracy: 0.7795 - val_loss: 0.4676 - val_accuracy: 0.7760\n",
            "Epoch 81/120\n",
            "18/18 [==============================] - 0s 3ms/step - loss: 0.4877 - accuracy: 0.7743 - val_loss: 0.4669 - val_accuracy: 0.7760\n",
            "Epoch 82/120\n",
            "18/18 [==============================] - 0s 3ms/step - loss: 0.4871 - accuracy: 0.7743 - val_loss: 0.4662 - val_accuracy: 0.7760\n",
            "Epoch 83/120\n",
            "18/18 [==============================] - 0s 4ms/step - loss: 0.4868 - accuracy: 0.7743 - val_loss: 0.4658 - val_accuracy: 0.7760\n",
            "Epoch 84/120\n",
            "18/18 [==============================] - 0s 2ms/step - loss: 0.4864 - accuracy: 0.7778 - val_loss: 0.4653 - val_accuracy: 0.7760\n",
            "Epoch 85/120\n",
            "18/18 [==============================] - 0s 2ms/step - loss: 0.4861 - accuracy: 0.7760 - val_loss: 0.4648 - val_accuracy: 0.7760\n",
            "Epoch 86/120\n",
            "18/18 [==============================] - 0s 2ms/step - loss: 0.4859 - accuracy: 0.7778 - val_loss: 0.4643 - val_accuracy: 0.7760\n",
            "Epoch 87/120\n",
            "18/18 [==============================] - 0s 2ms/step - loss: 0.4856 - accuracy: 0.7795 - val_loss: 0.4641 - val_accuracy: 0.7760\n",
            "Epoch 88/120\n",
            "18/18 [==============================] - 0s 3ms/step - loss: 0.4853 - accuracy: 0.7812 - val_loss: 0.4636 - val_accuracy: 0.7760\n",
            "Epoch 89/120\n",
            "18/18 [==============================] - 0s 3ms/step - loss: 0.4849 - accuracy: 0.7812 - val_loss: 0.4633 - val_accuracy: 0.7760\n",
            "Epoch 90/120\n",
            "18/18 [==============================] - 0s 3ms/step - loss: 0.4847 - accuracy: 0.7795 - val_loss: 0.4630 - val_accuracy: 0.7760\n",
            "Epoch 91/120\n",
            "18/18 [==============================] - 0s 3ms/step - loss: 0.4844 - accuracy: 0.7812 - val_loss: 0.4626 - val_accuracy: 0.7760\n",
            "Epoch 92/120\n",
            "18/18 [==============================] - 0s 3ms/step - loss: 0.4844 - accuracy: 0.7778 - val_loss: 0.4624 - val_accuracy: 0.7760\n",
            "Epoch 93/120\n",
            "18/18 [==============================] - 0s 3ms/step - loss: 0.4841 - accuracy: 0.7795 - val_loss: 0.4617 - val_accuracy: 0.7760\n",
            "Epoch 94/120\n",
            "18/18 [==============================] - 0s 3ms/step - loss: 0.4838 - accuracy: 0.7778 - val_loss: 0.4616 - val_accuracy: 0.7760\n",
            "Epoch 95/120\n",
            "18/18 [==============================] - 0s 2ms/step - loss: 0.4836 - accuracy: 0.7812 - val_loss: 0.4613 - val_accuracy: 0.7760\n",
            "Epoch 96/120\n",
            "18/18 [==============================] - 0s 3ms/step - loss: 0.4833 - accuracy: 0.7795 - val_loss: 0.4610 - val_accuracy: 0.7760\n",
            "Epoch 97/120\n",
            "18/18 [==============================] - 0s 3ms/step - loss: 0.4831 - accuracy: 0.7812 - val_loss: 0.4608 - val_accuracy: 0.7760\n",
            "Epoch 98/120\n",
            "18/18 [==============================] - 0s 4ms/step - loss: 0.4830 - accuracy: 0.7812 - val_loss: 0.4605 - val_accuracy: 0.7760\n",
            "Epoch 99/120\n",
            "18/18 [==============================] - 0s 4ms/step - loss: 0.4826 - accuracy: 0.7812 - val_loss: 0.4601 - val_accuracy: 0.7812\n",
            "Epoch 100/120\n",
            "18/18 [==============================] - 0s 3ms/step - loss: 0.4826 - accuracy: 0.7830 - val_loss: 0.4602 - val_accuracy: 0.7812\n",
            "Epoch 101/120\n",
            "18/18 [==============================] - 0s 4ms/step - loss: 0.4823 - accuracy: 0.7830 - val_loss: 0.4598 - val_accuracy: 0.7812\n",
            "Epoch 102/120\n",
            "18/18 [==============================] - 0s 2ms/step - loss: 0.4822 - accuracy: 0.7812 - val_loss: 0.4597 - val_accuracy: 0.7812\n",
            "Epoch 103/120\n",
            "18/18 [==============================] - 0s 3ms/step - loss: 0.4821 - accuracy: 0.7795 - val_loss: 0.4593 - val_accuracy: 0.7812\n",
            "Epoch 104/120\n",
            "18/18 [==============================] - 0s 2ms/step - loss: 0.4820 - accuracy: 0.7847 - val_loss: 0.4590 - val_accuracy: 0.7812\n",
            "Epoch 105/120\n",
            "18/18 [==============================] - 0s 2ms/step - loss: 0.4817 - accuracy: 0.7812 - val_loss: 0.4587 - val_accuracy: 0.7812\n",
            "Epoch 106/120\n",
            "18/18 [==============================] - 0s 2ms/step - loss: 0.4814 - accuracy: 0.7812 - val_loss: 0.4583 - val_accuracy: 0.7812\n",
            "Epoch 107/120\n",
            "18/18 [==============================] - 0s 3ms/step - loss: 0.4813 - accuracy: 0.7795 - val_loss: 0.4585 - val_accuracy: 0.7812\n",
            "Epoch 108/120\n",
            "18/18 [==============================] - 0s 4ms/step - loss: 0.4811 - accuracy: 0.7830 - val_loss: 0.4583 - val_accuracy: 0.7812\n",
            "Epoch 109/120\n",
            "18/18 [==============================] - 0s 2ms/step - loss: 0.4809 - accuracy: 0.7812 - val_loss: 0.4581 - val_accuracy: 0.7812\n",
            "Epoch 110/120\n",
            "18/18 [==============================] - 0s 2ms/step - loss: 0.4807 - accuracy: 0.7795 - val_loss: 0.4579 - val_accuracy: 0.7812\n",
            "Epoch 111/120\n",
            "18/18 [==============================] - 0s 2ms/step - loss: 0.4805 - accuracy: 0.7795 - val_loss: 0.4577 - val_accuracy: 0.7812\n",
            "Epoch 112/120\n",
            "18/18 [==============================] - 0s 2ms/step - loss: 0.4805 - accuracy: 0.7812 - val_loss: 0.4577 - val_accuracy: 0.7812\n",
            "Epoch 113/120\n",
            "18/18 [==============================] - 0s 3ms/step - loss: 0.4802 - accuracy: 0.7795 - val_loss: 0.4576 - val_accuracy: 0.7812\n",
            "Epoch 114/120\n",
            "18/18 [==============================] - 0s 2ms/step - loss: 0.4800 - accuracy: 0.7795 - val_loss: 0.4572 - val_accuracy: 0.7812\n",
            "Epoch 115/120\n",
            "18/18 [==============================] - 0s 2ms/step - loss: 0.4799 - accuracy: 0.7812 - val_loss: 0.4568 - val_accuracy: 0.7812\n",
            "Epoch 116/120\n",
            "18/18 [==============================] - 0s 2ms/step - loss: 0.4798 - accuracy: 0.7812 - val_loss: 0.4566 - val_accuracy: 0.7812\n",
            "Epoch 117/120\n",
            "18/18 [==============================] - 0s 4ms/step - loss: 0.4797 - accuracy: 0.7812 - val_loss: 0.4566 - val_accuracy: 0.7812\n",
            "Epoch 118/120\n",
            "18/18 [==============================] - 0s 3ms/step - loss: 0.4795 - accuracy: 0.7812 - val_loss: 0.4565 - val_accuracy: 0.7812\n",
            "Epoch 119/120\n",
            "18/18 [==============================] - 0s 4ms/step - loss: 0.4794 - accuracy: 0.7812 - val_loss: 0.4564 - val_accuracy: 0.7812\n",
            "Epoch 120/120\n",
            "18/18 [==============================] - 0s 4ms/step - loss: 0.4792 - accuracy: 0.7812 - val_loss: 0.4563 - val_accuracy: 0.7812\n"
          ]
        }
      ]
    },
    {
      "cell_type": "code",
      "source": [
        "# plot loss vs epochs\n",
        "epochRange = range(1,epochs+1);\n",
        "plt.plot(epochRange,history.history['loss'])\n",
        "plt.plot(epochRange,history.history['val_loss'])\n",
        "plt.xlabel('Epoch')\n",
        "plt.ylabel('Loss')\n",
        "plt.grid()\n",
        "plt.xlim((1,epochs))\n",
        "plt.legend(['Train','Test'])\n",
        "plt.show()"
      ],
      "metadata": {
        "colab": {
          "base_uri": "https://localhost:8080/",
          "height": 452
        },
        "id": "pKwNZXr5cbzO",
        "outputId": "ee054e02-d702-45c7-acdd-0a297e37589c"
      },
      "execution_count": 15,
      "outputs": [
        {
          "output_type": "display_data",
          "data": {
            "text/plain": [
              "<Figure size 640x480 with 1 Axes>"
            ],
            "image/png": "[encoded data removed]"
          },
          "metadata": {}
        }
      ]
    },
    {
      "cell_type": "code",
      "source": [
        "# Plot accuracy vs epochs (DIY)\n",
        "plt.plot(epochRange,history.history['accuracy'])\n",
        "plt.plot(epochRange,history.history['val_accuracy'])\n",
        "plt.xlabel('Epoch')\n",
        "plt.ylabel('Accuracy')\n",
        "plt.grid()\n",
        "plt.xlim((1,epochs))\n",
        "plt.legend(['Train','Test'])\n",
        "plt.show()"
      ],
      "metadata": {
        "colab": {
          "base_uri": "https://localhost:8080/",
          "height": 449
        },
        "id": "wVxkHueHctAW",
        "outputId": "dc6a1104-3023-4a12-ba7c-50243661d7f1"
      },
      "execution_count": 16,
      "outputs": [
        {
          "output_type": "display_data",
          "data": {
            "text/plain": [
              "<Figure size 640x480 with 1 Axes>"
            ],
            "image/png": "[encoded data removed]"
          },
          "metadata": {}
        }
      ]
    },
    {
      "cell_type": "code",
      "source": [
        "# Test, Loss, and accuracy\n",
        "loss_and_metrics = basic_model.evaluate(X_test, y_test)\n",
        "print('Loss = ',loss_and_metrics[0])\n",
        "print('Accuracy = ',loss_and_metrics[1])"
      ],
      "metadata": {
        "colab": {
          "base_uri": "https://localhost:8080/"
        },
        "id": "Fx4oaOwWczO5",
        "outputId": "4d288403-fc29-4ea6-d656-bc8a991ce0d3"
      },
      "execution_count": 17,
      "outputs": [
        {
          "output_type": "stream",
          "name": "stdout",
          "text": [
            "6/6 [==============================] - 0s 2ms/step - loss: 0.4563 - accuracy: 0.7812\n",
            "Loss =  0.4563077390193939\n",
            "Accuracy =  0.78125\n"
          ]
        }
      ]
    },
    {
      "cell_type": "code",
      "source": [
        "y_pred = basic_model.predict(X_test)\n",
        "print(y_pred[:5])\n",
        "print(y_test[:5])"
      ],
      "metadata": {
        "colab": {
          "base_uri": "https://localhost:8080/"
        },
        "id": "E18C1m2FdHx9",
        "outputId": "886e1596-ace0-4263-adf9-2079d4a36a2b"
      },
      "execution_count": 18,
      "outputs": [
        {
          "output_type": "stream",
          "name": "stdout",
          "text": [
            "6/6 [==============================] - 0s 2ms/step\n",
            "[[0.80877614]\n",
            " [0.12943272]\n",
            " [0.10024271]\n",
            " [0.7254821 ]\n",
            " [0.13500525]]\n",
            "661    1\n",
            "122    0\n",
            "113    0\n",
            "14     1\n",
            "529    0\n",
            "Name: 8, dtype: int64\n"
          ]
        }
      ]
    },
    {
      "cell_type": "code",
      "source": [
        "y_pred =[1 if y_pred[aa]>=0.5 else 0 for aa in range(len(y_pred)) ]\n",
        "print(y_pred[:5])"
      ],
      "metadata": {
        "colab": {
          "base_uri": "https://localhost:8080/"
        },
        "id": "j-vr6Q20dL9t",
        "outputId": "dbfe9319-1f0c-4e0d-c473-650d7ed6923b"
      },
      "execution_count": 19,
      "outputs": [
        {
          "output_type": "stream",
          "name": "stdout",
          "text": [
            "[1, 0, 0, 1, 0]\n"
          ]
        }
      ]
    },
    {
      "cell_type": "code",
      "source": [
        "print(sklearn.metrics.classification_report(y_test, y_pred))\n"
      ],
      "metadata": {
        "colab": {
          "base_uri": "https://localhost:8080/"
        },
        "id": "Bcac79JRdS7A",
        "outputId": "f2257245-b8ce-407c-84b6-63453c1c1370"
      },
      "execution_count": 20,
      "outputs": [
        {
          "output_type": "stream",
          "name": "stdout",
          "text": [
            "              precision    recall  f1-score   support\n",
            "\n",
            "           0       0.82      0.86      0.84       130\n",
            "           1       0.68      0.61      0.64        62\n",
            "\n",
            "    accuracy                           0.78       192\n",
            "   macro avg       0.75      0.74      0.74       192\n",
            "weighted avg       0.78      0.78      0.78       192\n",
            "\n"
          ]
        }
      ]
    }
  ]
}